{
 "cells": [
  {
   "cell_type": "code",
   "execution_count": 5,
   "metadata": {},
   "outputs": [],
   "source": [
    "import numpy as np\n",
    "import time"
   ]
  },
  {
   "cell_type": "code",
   "execution_count": 11,
   "metadata": {},
   "outputs": [],
   "source": [
    "# Status\n",
    "UNKNOWN = -1\n",
    "NOISE = -2"
   ]
  },
  {
   "cell_type": "code",
   "execution_count": 2,
   "metadata": {},
   "outputs": [],
   "source": [
    "class DBSCAN(object):\n",
    "    \"\"\"\n",
    "    Base Class of DBSCAN, please do NOT instantiate this Class\n",
    "    \"\"\"\n",
    "\n",
    "    def __init__(self, path):\n",
    "        \"\"\"\n",
    "        DBSCAN Classes should be instantiate with data file path\n",
    "        \"\"\"\n",
    "        self.m, _ = self._load_data(path)\n",
    "        self.num_p = self.m.shape[0]\n",
    "        self.tags = [UNKNOWN] * self.num_p\n",
    "\n",
    "    def _load_data(self, path: str):\n",
    "        with open(path, 'r') as f:\n",
    "            data = []\n",
    "            label = []\n",
    "            for l in f.readlines():\n",
    "                source = l.strip().split()\n",
    "                data.append([float(val) for val in source[:2]])\n",
    "                label.append(int(source[-1]))\n",
    "            return np.array(data), np.array(label)\n",
    "        \n",
    "    def _get_dist(self, a, b, fast_mode: bool = False) -> float:\n",
    "        \"\"\"\n",
    "        for float comparison, set all distance value precision to 5\n",
    "        :param: a: int; index of given point in data matrix\n",
    "        :param: b: same as a\n",
    "        :param: fast_mode: bool -> if True, ignore sqrt() opration for distance\n",
    "        \"\"\"\n",
    "        if fast_mode:\n",
    "            result = np.power(self.m[b] - self.m[a], 2).sum()\n",
    "        else:\n",
    "            result = np.sqrt(np.power(self.m[b] - self.m[a], 2).sum())\n",
    "        return round(result, 5)\n",
    "    \n",
    "    def predict(self, eps, min_pts, fast_mode=False) -> list:\n",
    "        \"\"\"\n",
    "        return list of labels as the sequence in data matrix\n",
    "        :param: m: np.matrix; N * 2 matrix recoding all nodes' coordinates\n",
    "        :param: eps: float; the value of radius of density area\n",
    "        :param: min_pts: int; least neighbours should be in a density area\n",
    "        \"\"\"\n",
    "\n",
    "        cluster_id = 1\n",
    "        for p_id in range(self.num_p):\n",
    "            if self.tags[p_id] != UNKNOWN:\n",
    "                continue\n",
    "            if self._clustering(p_id, eps, min_pts, cluster_id, fast_mode):\n",
    "                cluster_id += 1\n",
    "        return np.array(self.tags)"
   ]
  },
  {
   "cell_type": "code",
   "execution_count": 3,
   "metadata": {},
   "outputs": [],
   "source": [
    "class NaiveDBSCAN(DBSCAN):\n",
    "\n",
    "    def __init__(self, path):\n",
    "        super(NaiveDBSCAN, self).__init__(path)\n",
    "\n",
    "    def _get_neighbours(self, p: int, eps: float, fast_mode=False) -> list:\n",
    "\n",
    "        ngbs = []\n",
    "        for idx in range(len(self.m)):\n",
    "            if self._get_dist(p, idx, fast_mode) < eps:\n",
    "                ngbs.append(idx)\n",
    "        return ngbs\n",
    "    \n",
    "    def _clustering(self, p, eps, min_pts, cluster_id, fast_mode=False) -> bool:\n",
    "\n",
    "        neighbours = self._get_neighbours(p, eps, fast_mode)\n",
    "        if len(neighbours) < min_pts:\n",
    "            self.tags[p] = NOISE\n",
    "            return False\n",
    "        else:\n",
    "            self.tags[p] = cluster_id\n",
    "            for idx in neighbours:\n",
    "                self.tags[idx] = cluster_id\n",
    "            while len(neighbours) > 0:\n",
    "                sub_neighbours = self._get_neighbours(neighbours[0], eps, fast_mode)\n",
    "                if len(sub_neighbours) >= min_pts:\n",
    "                    for sub_n in sub_neighbours:\n",
    "                        if self.tags[sub_n] < 0:\n",
    "                            self.tags[sub_n] = cluster_id\n",
    "                            if self.tags[sub_n] == UNKNOWN:\n",
    "                                neighbours.append(sub_n)\n",
    "                neighbours = neighbours[1:]\n",
    "        return True"
   ]
  },
  {
   "cell_type": "code",
   "execution_count": 207,
   "metadata": {},
   "outputs": [],
   "source": [
    "def get_neighbours(instance, p: int, eps: float, fast_mode=False) -> list:\n",
    "\n",
    "########### parallel #############\n",
    "\n",
    "#     def ngbs_f(iterator):\n",
    "#         ngbs = []\n",
    "#         for i in iterator:\n",
    "#             if instance._get_dist(p, i, fast_mode) < eps:\n",
    "#                 ngbs.append(i)\n",
    "#         return ngbs\n",
    "\n",
    "#     idx_list = list(np.array(range(len(instance.m))))\n",
    "\n",
    "#     idx_rdd = sc.parallelize(idx_list)\n",
    "\n",
    "#     all_ngbs = idx_rdd.mapPartitions(ngbs_f).collect()\n",
    "\n",
    "#     return all_ngbs\n",
    "\n",
    "\n",
    "########### serial #############\n",
    "\n",
    "    ngbs = []\n",
    "    for idx in range(len(instance.m)):\n",
    "        if instance._get_dist(p, idx, fast_mode) < eps:\n",
    "            ngbs.append(idx)\n",
    "    return ngbs\n",
    "\n",
    "def clustering(instance, p, eps, min_pts, cluster_id, fast_mode=False) -> bool:\n",
    "    \n",
    "########### parallel #############\n",
    "\n",
    "    def set_tag(x, cluster_id):\n",
    "        instance.tags[x] = cluster_id\n",
    "        return x\n",
    "\n",
    "    neighbours = get_neighbours(instance, p, eps, fast_mode)\n",
    "    if len(neighbours) < min_pts:\n",
    "        instance.tags[p] = NOISE\n",
    "        return False\n",
    "    else:\n",
    "        instance.tags[p] = cluster_id\n",
    "\n",
    "        ngbs_rdd = sc.parallelize(neighbours)\n",
    "\n",
    "        results = ngbs_rdd.map(lambda x: set_tag(x, cluster_id))\n",
    "\n",
    "        while len(neighbours) > 0:\n",
    "            sub_neighbours = get_neighbours(instance, neighbours[0], eps, fast_mode)\n",
    "            if len(sub_neighbours) >= min_pts:\n",
    "                for sub_n in sub_neighbours:\n",
    "                    if instance.tags[sub_n] < 0:\n",
    "                        instance.tags[sub_n] = cluster_id\n",
    "                        if instance.tags[sub_n] == UNKNOWN:\n",
    "                            neighbours.append(sub_n)\n",
    "            neighbours = neighbours[1:]\n",
    "    return True\n",
    "\n",
    "########### serial #############\n",
    "\n",
    "#     neighbours = get_neighbours(instance, p, eps, fast_mode)\n",
    "#     if len(neighbours) < min_pts:\n",
    "#         instance.tags[p] = NOISE\n",
    "#         return False\n",
    "#     else:\n",
    "#         instance.tags[p] = cluster_id\n",
    "#         for idx in neighbours:\n",
    "#             instance.tags[idx] = cluster_id\n",
    "#         while len(neighbours) > 0:\n",
    "#             sub_neighbours = get_neighbours(instance, neighbours[0], eps, fast_mode)\n",
    "#             if len(sub_neighbours) >= min_pts:\n",
    "#                 for sub_n in sub_neighbours:\n",
    "#                     if instance.tags[sub_n] < 0:\n",
    "#                         instance.tags[sub_n] = cluster_id\n",
    "#                         if instance.tags[sub_n] == UNKNOWN:\n",
    "#                             neighbours.append(sub_n)\n",
    "#             neighbours = neighbours[1:]\n",
    "#     return True\n",
    "\n",
    "def predict(instance, eps, min_pts, fast_mode=False) -> list:\n",
    "    \n",
    "    cluster_id = 1\n",
    "    \n",
    "#     p_id_list = list(np.array(range(instance.num_p)))\n",
    "#     p_id_rdd = sc.parallelize(p_id_list)\n",
    "#     results = p_id_rdd.foreach(each_clustering)\n",
    "    \n",
    "    for p_id in range(instance.num_p):\n",
    "        if instance.tags[p_id] != UNKNOWN:\n",
    "            continue\n",
    "        if clustering(instance, p_id, eps, min_pts, cluster_id, fast_mode):\n",
    "            cluster_id += 1\n",
    "    return np.array(instance.tags)"
   ]
  },
  {
   "cell_type": "markdown",
   "metadata": {},
   "source": [
    "##### parallel test"
   ]
  },
  {
   "cell_type": "code",
   "execution_count": 208,
   "metadata": {},
   "outputs": [],
   "source": [
    "src = 'spiral.txt'\n",
    "test = NaiveDBSCAN_parallel(src)"
   ]
  },
  {
   "cell_type": "code",
   "execution_count": 209,
   "metadata": {},
   "outputs": [
    {
     "name": "stdout",
     "output_type": "stream",
     "text": [
      "[ 1  1  1  1  1  2  2  2  2  2  3  3  3  3  3  4  4  4  4  4  5  5  5  5\n",
      "  5  5  5  6  6  6  6  6  6  6  7  7  7  7  7  7  7  8  8  8  8  8  8  8\n",
      "  8  9  9  9  9  9  9  9  9 10 10 10 10 10 10 10 10 10 11 11 11 11 11 11\n",
      " 11 11 11 11 11 12 12 12 12 12 12 12 12 12 12 12 12 12 12 12 13 13 13 13\n",
      " 13 13 13 13 13 13 13 13 13 13 14 14 14 14 14 15 15 15 15 15 16 16 16 16\n",
      " 16 17 17 17 17 17 17 18 18 18 18 18 18 18 19 19 19 19 19 19 19 20 20 20\n",
      " 20 20 20 20 21 21 21 21 21 21 21 22 22 22 22 22 22 22 22 23 23 23 23 23\n",
      " 23 23 23 23 23 24 24 24 24 24 24 24 24 24 24 24 24 25 25 25 25 25 25 25\n",
      " 25 25 25 25 25 25 25 25 26 26 26 26 26 26 26 27 27 27 27 27 28 28 28 28\n",
      " 28 29 29 29 29 29 30 30 30 30 30 31 31 31 31 31 31 32 32 32 32 32 32 32\n",
      " 33 33 33 33 33 33 33 34 34 34 34 34 34 34 35 35 35 35 35 35 35 35 35 36\n",
      " 36 36 36 36 36 36 36 36 36 37 37 37 37 37 37 37 37 37 37 37 38 38 38 38\n",
      " 38 38 38 38 38 38 38 38 38 38 38 39 39 39 39 39 39 39 39 39 39 39 39 39]\n",
      "parallal run time: 1.3952338695526123\n"
     ]
    }
   ],
   "source": [
    "start_time = time.time()\n",
    "print(predict(test, 2.5, 3))\n",
    "end_time = time.time()\n",
    "print('parallal run time:', end_time - start_time)"
   ]
  },
  {
   "cell_type": "markdown",
   "metadata": {},
   "source": [
    "##### serial test"
   ]
  },
  {
   "cell_type": "code",
   "execution_count": 133,
   "metadata": {},
   "outputs": [
    {
     "name": "stdout",
     "output_type": "stream",
     "text": [
      "Naive DBSCAN:\n"
     ]
    }
   ],
   "source": [
    "src = 'spiral.txt'\n",
    "\n",
    "print('Naive DBSCAN:')\n",
    "ndbscan = NaiveDBSCAN(src)"
   ]
  },
  {
   "cell_type": "code",
   "execution_count": 134,
   "metadata": {},
   "outputs": [
    {
     "name": "stdout",
     "output_type": "stream",
     "text": [
      "[ 1  1  1  2  2  2  2  2  3  3  3  3  3  4  4  4  4  4  5  5  5  5  5  5\n",
      "  6  6  6  6  6  6  6  7  7  7  7  7  7  7  8  8  8  8  8  8  8  9  9  9\n",
      "  9  9  9  9  9 10 10 10 10 10 10 10 10 10 11 11 11 11 11 11 11 11 11 11\n",
      " 12 12 12 12 12 12 12 12 12 12 12 12 13 13 13 13 13 13 13 13 13 13 13 13\n",
      " 13 13 13 13 13 13 13 13 13 13 14 14 14 15 15 15 15 15 16 16 16 16 16 17\n",
      " 17 17 17 17 18 18 18 18 18 18 18 19 19 19 19 19 19 19 20 20 20 20 20 20\n",
      " 20 21 21 21 21 21 21 21 22 22 22 22 22 22 22 23 23 23 23 23 23 23 23 23\n",
      " 24 24 24 24 24 24 24 24 24 24 24 25 25 25 25 25 25 25 25 25 25 25 25 25\n",
      " 26 26 26 26 26 26 26 26 26 26 26 26 26 26 26 27 27 27 28 28 28 28 28 29\n",
      " 29 29 29 29 30 30 30 30 30 31 31 31 31 31 31 32 32 32 32 32 32 33 33 33\n",
      " 33 33 33 33 34 34 34 34 34 34 34 35 35 35 35 35 35 35 35 36 36 36 36 36\n",
      " 36 36 36 36 37 37 37 37 37 37 37 37 37 37 37 38 38 38 38 38 38 38 38 38\n",
      " 38 38 38 39 39 39 39 39 39 39 39 39 39 39 39 39 39 39 39 39 39 39 39 39]\n",
      "parallal run time: 1.2797307968139648\n"
     ]
    }
   ],
   "source": [
    "start_time = time.time()\n",
    "predictions = ndbscan.predict(2.5, 3)\n",
    "print(predictions)\n",
    "end_time = time.time()\n",
    "print('parallal run time:', end_time - start_time)"
   ]
  },
  {
   "cell_type": "code",
   "execution_count": 210,
   "metadata": {},
   "outputs": [],
   "source": [
    "del ndbscan"
   ]
  }
 ],
 "metadata": {
  "kernelspec": {
   "display_name": "Python 3",
   "language": "python",
   "name": "python3"
  },
  "language_info": {
   "codemirror_mode": {
    "name": "ipython",
    "version": 3
   },
   "file_extension": ".py",
   "mimetype": "text/x-python",
   "name": "python",
   "nbconvert_exporter": "python",
   "pygments_lexer": "ipython3",
   "version": "3.6.8"
  }
 },
 "nbformat": 4,
 "nbformat_minor": 2
}
